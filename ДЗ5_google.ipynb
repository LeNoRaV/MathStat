{
  "nbformat": 4,
  "nbformat_minor": 0,
  "metadata": {
    "colab": {
      "provenance": [],
      "authorship_tag": "ABX9TyOxVAZqys9QyN5pht6oNJ1n",
      "include_colab_link": true
    },
    "kernelspec": {
      "name": "python3",
      "display_name": "Python 3"
    },
    "language_info": {
      "name": "python"
    }
  },
  "cells": [
    {
      "cell_type": "markdown",
      "metadata": {
        "id": "view-in-github",
        "colab_type": "text"
      },
      "source": [
        "<a href=\"https://colab.research.google.com/github/LeNoRaV/MathStat-Lab5/blob/main/%D0%94%D0%975_google.ipynb\" target=\"_parent\"><img src=\"https://colab.research.google.com/assets/colab-badge.svg\" alt=\"Open In Colab\"/></a>"
      ]
    },
    {
      "cell_type": "markdown",
      "source": [
        "Задача №5 Проверка гипотез  о параметрах нормального распределения"
      ],
      "metadata": {
        "id": "sTXYMAejNexe"
      }
    },
    {
      "cell_type": "code",
      "source": [
        "import pandas as pd\n",
        "import numpy as np\n",
        "import scipy as sp\n",
        "import math\n",
        "import matplotlib.pyplot as plt\n",
        "import seaborn as sb\n",
        "from prettytable import PrettyTable\n",
        "\n",
        "np.set_printoptions(precision=3, suppress=True)\n",
        "\n",
        "def print_table(th, td):\n",
        "    table = PrettyTable(th)\n",
        "    columns = len(th) \n",
        "    td_data = td.tolist()[:]\n",
        "    while td_data:\n",
        "        table.add_row(td_data[:columns])\n",
        "        td_data = td_data[columns:]\n",
        "    print(table)"
      ],
      "metadata": {
        "id": "RfvKRAtONcZD"
      },
      "execution_count": 17,
      "outputs": []
    },
    {
      "cell_type": "code",
      "source": [
        "df = pd.read_csv('ДЗ5.csv',delimiter=';',header=None)\n",
        "x = df.to_numpy()\n",
        "print(\"Выборка (вариант 10) \\n\", x)"
      ],
      "metadata": {
        "colab": {
          "base_uri": "https://localhost:8080/"
        },
        "id": "c256HCKSPLiy",
        "outputId": "4de41750-e795-4aae-82e8-8f3c827028c4"
      },
      "execution_count": 8,
      "outputs": [
        {
          "output_type": "stream",
          "name": "stdout",
          "text": [
            "Выборка (вариант 10) \n",
            " [[-15.754  -5.357  -5.177  -7.58   -0.929 -13.199  -8.135   0.323  -8.631\n",
            "   -1.297]\n",
            " [-10.437  -3.874  -8.748  -8.036  -7.85  -11.149 -12.184  -7.747  -3.767\n",
            "    1.761]\n",
            " [-11.87    0.823  -1.097  -8.208 -12.289  -8.661  -2.067  -7.831  -4.29\n",
            "   -7.062]\n",
            " [ -3.571 -12.35  -10.295  -8.066  -1.334  -2.598  -7.224  -5.336  -7.22\n",
            "   -7.747]\n",
            " [ -6.725  -4.637  -5.206  -8.816 -11.586 -14.533 -10.135  -9.516  -5.503\n",
            "   -9.966]\n",
            " [ -8.782 -10.151  -5.609  -5.025  -8.187  -7.44   -5.41   -9.567  -6.365\n",
            "   -9.776]\n",
            " [-12.632  -6.32   -7.54   -1.798  -9.049 -10.221  -2.571 -10.856  -5.774\n",
            "   -7.42 ]\n",
            " [-11.878  -2.76   -0.8    -7.944  -6.091   0.113  -3.328 -10.045  -7.386\n",
            "   -4.706]\n",
            " [-10.041  -9.209  -4.214  -9.859  -4.108  -3.329   2.647  -8.015  -8.397\n",
            "   -7.12 ]\n",
            " [ -4.833  -5.303 -14.177  -4.619 -15.765  -8.972  -0.772 -17.609  -3.698\n",
            "   -1.299]\n",
            " [ -1.904  -6.024  -7.803  -5.757  -0.452  -7.508  -3.84   -7.814  -5.63\n",
            "   -5.21 ]\n",
            " [ -2.536  -7.717  -5.87   -4.508  -3.493 -10.479  -9.096  -1.598  -8.127\n",
            "   -6.348]]\n"
          ]
        }
      ]
    },
    {
      "cell_type": "code",
      "source": [
        "n = x.size\n",
        "Max = np.amax(x)\n",
        "Min = np.amin(x)\n",
        "w = Max - Min\n",
        "\n",
        "print(\"Размер n = %d\\nКрайние члены вариационного ряда max = %.3f, min = %.5f\\nРазмах выборки w = %f\" \n",
        "      %(n, Max, Min, w))"
      ],
      "metadata": {
        "colab": {
          "base_uri": "https://localhost:8080/"
        },
        "id": "t9r9Mp7GXilV",
        "outputId": "39770d3a-d931-47c8-f9ae-fb046ede92ee"
      },
      "execution_count": 18,
      "outputs": [
        {
          "output_type": "stream",
          "name": "stdout",
          "text": [
            "Размер n = 120\n",
            "Крайние члены вариационного ряда max = 2.647, min = -17.60900\n",
            "Размах выборки w = 20.256000\n"
          ]
        }
      ]
    },
    {
      "cell_type": "code",
      "source": [
        "l = math.trunc(1 + math.log2(n))\n",
        "h = w / l\n",
        "\n",
        "print(\"Число интервалов l = %d\\nШаг(ширина интервалов группировки) h = %f\" %(l, h))\n",
        "\n",
        "hist, bin_edges = np.histogram(x, l)\n",
        "bin_edges_average = np.zeros(bin_edges[:7].size)\n",
        "for i in range (l):\n",
        "    bin_edges_average[i] = (bin_edges[i] + bin_edges[i + 1]) / 2 \n",
        "f1 = bin_edges_average\n",
        "f2 = hist\n",
        "\n",
        "print(\"\\n\")\n",
        "th = [\"Cредние значения каждого из  интервалов\", \"Частоты попадания элементов в каждый из интервалов\"]\n",
        "td = np.array(f1[0])\n",
        "for i in range(len(f1)-1):\n",
        "    td = np.append(td, f2[i])\n",
        "    td = np.append(td, f1[i+1])\n",
        "td = np.append(td, f2[6])\n",
        "print_table(th, td)\n",
        "\n",
        "p = hist / n\n",
        "\n",
        "Int = f1\n",
        "intl = Int - h / 2\n",
        "intl = np.append(intl, Max)\n",
        "\n",
        "print(\"\\n\")\n",
        "th = [\"Интервал\", \"Середина интервала int\", \"Частота f2\", \"Относительная частота p\"]\n",
        "td = []\n",
        "for i in range(l):\n",
        "    td.append(\"[\"+str(round(intl[i], 4))+\",\"+str(round(intl[i + 1], 4))+\")\")\n",
        "    td.append(round(Int[i], 4))\n",
        "    td.append(f2[i])\n",
        "    td.append(round(p[i], 4))\n",
        "print_table(th, np.array(td))"
      ],
      "metadata": {
        "colab": {
          "base_uri": "https://localhost:8080/"
        },
        "id": "cM8aDikUcD7O",
        "outputId": "66755949-38be-457a-951a-e88f80e62366"
      },
      "execution_count": 19,
      "outputs": [
        {
          "output_type": "stream",
          "name": "stdout",
          "text": [
            "Число интервалов l = 7\n",
            "Шаг(ширина интервалов группировки) h = 2.893714\n",
            "\n",
            "\n",
            "+-----------------------------------------+----------------------------------------------------+\n",
            "| Cредние значения каждого из  интервалов | Частоты попадания элементов в каждый из интервалов |\n",
            "+-----------------------------------------+----------------------------------------------------+\n",
            "|            -16.16214285714286           |                        3.0                         |\n",
            "|           -13.268428571428574           |                        9.0                         |\n",
            "|           -10.374714285714287           |                        20.0                        |\n",
            "|            -7.481000000000002           |                        36.0                        |\n",
            "|            -4.587285714285716           |                        31.0                        |\n",
            "|           -1.6935714285714303           |                        16.0                        |\n",
            "|            1.2001428571428565           |                        5.0                         |\n",
            "+-----------------------------------------+----------------------------------------------------+\n",
            "\n",
            "\n",
            "+---------------------+------------------------+------------+-------------------------+\n",
            "|       Интервал      | Середина интервала int | Частота f2 | Относительная частота p |\n",
            "+---------------------+------------------------+------------+-------------------------+\n",
            "|  [-17.609,-14.7153) |        -16.1621        |     3      |          0.025          |\n",
            "| [-14.7153,-11.8216) |        -13.2684        |     9      |          0.075          |\n",
            "|  [-11.8216,-8.9279) |        -10.3747        |     20     |          0.1667         |\n",
            "|  [-8.9279,-6.0341)  |         -7.481         |     36     |           0.3           |\n",
            "|  [-6.0341,-3.1404)  |        -4.5873         |     31     |          0.2583         |\n",
            "|  [-3.1404,-0.2467)  |        -1.6936         |     16     |          0.1333         |\n",
            "|   [-0.2467,2.647)   |         1.2001         |     5      |          0.0417         |\n",
            "+---------------------+------------------------+------------+-------------------------+\n"
          ]
        }
      ]
    },
    {
      "cell_type": "code",
      "source": [
        "sb.set_style(\"whitegrid\")\n",
        "plt.figure(figsize=(10,6))\n",
        "X = Int\n",
        "Y = p / h\n",
        "plt.bar(X, Y, width=h, color='lightblue')\n",
        "plt.plot(X, Y, color='red')\n",
        "plt.xlabel(\"int\")\n",
        "plt.ylabel(\"p / h\")\n",
        "plt.show()"
      ],
      "metadata": {
        "colab": {
          "base_uri": "https://localhost:8080/",
          "height": 388
        },
        "id": "JUDdVpPEtTgC",
        "outputId": "a1fbdfc4-b69b-4cea-8b3a-9dd3ae615dd4"
      },
      "execution_count": 20,
      "outputs": [
        {
          "output_type": "display_data",
          "data": {
            "text/plain": [
              "<Figure size 720x432 with 1 Axes>"
            ],
            "image/png": "[encoded data removed]"
          },
          "metadata": {}
        }
      ]
    },
    {
      "cell_type": "code",
      "source": [
        "xm = sum(x[i, j] for i in range(np.shape(x)[0]) for j in range(np.shape(x)[1])) / n\n",
        "s2 = sum((x[i, j] - xm) ** 2 for i in range(np.shape(x)[0]) for j in range(np.shape(x)[1])) / (n - 1)\n",
        "print(\"Выброчное среднее xm =\", round(xm, 5))\n",
        "print(\"Выборочная дисперсия s2 =\", round(s2, 5))"
      ],
      "metadata": {
        "colab": {
          "base_uri": "https://localhost:8080/"
        },
        "id": "KN1765hUtb2z",
        "outputId": "8fdf7804-d489-4877-9d57-8b15fef99399"
      },
      "execution_count": 21,
      "outputs": [
        {
          "output_type": "stream",
          "name": "stdout",
          "text": [
            "Выброчное среднее xm = -6.73672\n",
            "Выборочная дисперсия s2 = 14.95452\n"
          ]
        }
      ]
    },
    {
      "cell_type": "markdown",
      "source": [
        "1) постройте критерий S_2 уровня α и проверьте гипотезу H_0: a=a_0  против  односторонней альтернативы  H_2, если σ неизвестно;"
      ],
      "metadata": {
        "id": "H9nK5uF8XIxE"
      }
    },
    {
      "cell_type": "markdown",
      "source": [
        "Вар\t10\n",
        "\n",
        "α\t0.1\n",
        "\n",
        "a_0\t-6.8\n",
        "\n",
        "H_2:\ta>a_0\n",
        "\n",
        "σ_0\t3.2\n",
        "\n",
        "H_3: σ>σ_0\n",
        "\n",
        "H_1: a=a_1=-6.2\n",
        "\n",
        "σ_1\t3.4\n",
        "\n",
        "ε\t0.15\n",
        "\n",
        "n 120"
      ],
      "metadata": {
        "id": "tGDQK-biYBjb"
      }
    },
    {
      "cell_type": "code",
      "source": [
        "alpha = 0.1\n",
        "a_0 = -6.8\n",
        "a_1 = -6.2\n",
        "sigma_0 = 3.2\n",
        "sigma_1 = 3.4\n",
        "epsilon = 0.15"
      ],
      "metadata": {
        "id": "EezwkiPUve4m"
      },
      "execution_count": 23,
      "outputs": []
    },
    {
      "cell_type": "markdown",
      "source": [
        "![image.png](data:image/png;base64,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)"
      ],
      "metadata": {
        "id": "wSDOvQ8gfGRG"
      }
    },
    {
      "cell_type": "code",
      "source": [
        "t_1_alpha = sp.stats.t.ppf(1-alpha, n-1)\n",
        "print(\"t_1_alpha =\", round(t_1_alpha, 5))\n",
        "c2 = a_0+(t_1_alpha)/math.sqrt(n)*math.sqrt(s2)\n",
        "print(\"C_2 =\", round(c2, 5))"
      ],
      "metadata": {
        "colab": {
          "base_uri": "https://localhost:8080/"
        },
        "id": "lkahTn5Qt0a7",
        "outputId": "81d87687-9d9f-4272-cbd1-d8b83039de71"
      },
      "execution_count": 29,
      "outputs": [
        {
          "output_type": "stream",
          "name": "stdout",
          "text": [
            "t_1_alpha = 1.28871\n",
            "C_2 = -6.34506\n"
          ]
        }
      ]
    },
    {
      "cell_type": "markdown",
      "source": [
        "![image.png](data:image/png;base64,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)"
      ],
      "metadata": {
        "id": "iTTLrldhjDvV"
      }
    },
    {
      "cell_type": "code",
      "source": [
        "chisquare_1_alpha = sp.stats.chi2.ppf((1-alpha), n-1)\n",
        "print(\"chisquare_1_alpha =\", round(chisquare_1_alpha, 5))\n",
        "c3 = (sigma_0*sigma_0)/(n-1)*chisquare_1_alpha\n",
        "print(\"C_3 =\", round(c3, 5))"
      ],
      "metadata": {
        "colab": {
          "base_uri": "https://localhost:8080/"
        },
        "id": "8tRmT4x9230m",
        "outputId": "dd8a2691-25ce-42c5-b549-4681ca8e150f"
      },
      "execution_count": 28,
      "outputs": [
        {
          "output_type": "stream",
          "name": "stdout",
          "text": [
            "chisquare_1_alpha = 139.14946\n",
            "C_3 = 11.97387\n"
          ]
        }
      ]
    },
    {
      "cell_type": "markdown",
      "source": [
        "![image.png](data:image/png;base64,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)"
      ],
      "metadata": {
        "id": "7GF-kMJOvxBi"
      }
    },
    {
      "cell_type": "code",
      "source": [
        "norm_1_alpha = sp.stats.norm.ppf(1-alpha)\n",
        "print(\"norm_1_alpha =\", round(norm_1_alpha, 5))\n",
        "c1 = a_0+(sigma_1*norm_1_alpha)/math.sqrt(n)\n",
        "print(\"C_1 =\", round(c1, 5))"
      ],
      "metadata": {
        "colab": {
          "base_uri": "https://localhost:8080/"
        },
        "id": "z12LiHjI42Nl",
        "outputId": "ca8d8809-beb1-4eba-e025-869edef12e2d"
      },
      "execution_count": 27,
      "outputs": [
        {
          "output_type": "stream",
          "name": "stdout",
          "text": [
            "norm_1_alpha = 1.28155\n",
            "C_1 = -6.40224\n"
          ]
        }
      ]
    },
    {
      "cell_type": "markdown",
      "source": [
        "![image.png](data:image/png;base64,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)"
      ],
      "metadata": {
        "id": "Wtj0dnx7xVCX"
      }
    },
    {
      "cell_type": "code",
      "source": [
        "beta = sp.stats.norm.pdf(c1*n,a_1*n,sigma_1*math.sqrt(n))\n",
        "print(\"beta =\", round(beta, 5))"
      ],
      "metadata": {
        "colab": {
          "base_uri": "https://localhost:8080/"
        },
        "id": "VsKgR0OC92i0",
        "outputId": "f152eb91-9a97-4fab-9f93-fb022d4a4c34"
      },
      "execution_count": 32,
      "outputs": [
        {
          "output_type": "stream",
          "name": "stdout",
          "text": [
            "beta = 0.00866\n"
          ]
        }
      ]
    },
    {
      "cell_type": "markdown",
      "source": [
        "![image.png](data:image/png;base64,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)"
      ],
      "metadata": {
        "id": "9lL614tcz3fu"
      }
    },
    {
      "cell_type": "code",
      "source": [
        "norm_epsilon = sp.stats.norm.ppf(epsilon)\n",
        "print(\"norm_epsilon =\", round(norm_epsilon, 5))\n",
        "a_1_line=c1-norm_epsilon/math.sqrt(n)*sigma_1\n",
        "print(\"a_1_line =\", round(a_1_line, 5))"
      ],
      "metadata": {
        "colab": {
          "base_uri": "https://localhost:8080/"
        },
        "id": "bTDqbKRZ0ZqF",
        "outputId": "5fcc5d13-7e2a-436e-f350-4c3af30e2527"
      },
      "execution_count": 34,
      "outputs": [
        {
          "output_type": "stream",
          "name": "stdout",
          "text": [
            "norm_epsilon = -1.03643\n",
            "a_1_line = -6.08055\n"
          ]
        }
      ]
    },
    {
      "cell_type": "code",
      "source": [
        "print(\"Строим совмещенные графики\\n\")\n",
        "xx = np.arange (-20, 5, 0.001)\n",
        "p_norm0 = sp.stats.norm.pdf(xx,a_0,sigma_1)\n",
        "p_norm1 = sp.stats.norm.pdf(xx,a_1,sigma_1)\n",
        "sb.set_style(\"whitegrid\")\n",
        "plt.plot(xx, p_norm0, color='red',label='μ: a_0, σ: σ_1')\n",
        "plt.plot(xx, p_norm1, color='green',label='μ: a_1, σ: σ_1')\n",
        "X_0 = Int\n",
        "Y_0 = p / h\n",
        "plt.bar(X_0, Y_0, width=h, color='lightblue')\n",
        "plt.xlabel(\"int\")\n",
        "plt.ylabel(\"p / h\")\n",
        "plt.legend() \n",
        "plt.show()"
      ],
      "metadata": {
        "colab": {
          "base_uri": "https://localhost:8080/",
          "height": 314
        },
        "id": "ULmus4tg1j5o",
        "outputId": "9b9a2235-42b2-42b9-a89b-95eef5334d7a"
      },
      "execution_count": 43,
      "outputs": [
        {
          "output_type": "stream",
          "name": "stdout",
          "text": [
            "Строим совмещенные графики\n",
            "\n"
          ]
        },
        {
          "output_type": "display_data",
          "data": {
            "text/plain": [
              "<Figure size 432x288 with 1 Axes>"
            ],
            "image/png": "[encoded data removed]"
          },
          "metadata": {}
        }
      ]
    }
  ]
}