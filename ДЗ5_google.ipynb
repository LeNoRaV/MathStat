{
  "nbformat": 4,
  "nbformat_minor": 0,
  "metadata": {
    "colab": {
      "provenance": [],
      "authorship_tag": "ABX9TyP6czt7/qnzjgXcgwad321J",
      "include_colab_link": true
    },
    "kernelspec": {
      "name": "python3",
      "display_name": "Python 3"
    },
    "language_info": {
      "name": "python"
    }
  },
  "cells": [
    {
      "cell_type": "markdown",
      "metadata": {
        "id": "view-in-github",
        "colab_type": "text"
      },
      "source": [
        "<a href=\"https://colab.research.google.com/github/LeNoRaV/MathStat-Lab5/blob/main/%D0%94%D0%975_google.ipynb\" target=\"_parent\"><img src=\"https://colab.research.google.com/assets/colab-badge.svg\" alt=\"Open In Colab\"/></a>"
      ]
    },
    {
      "cell_type": "markdown",
      "source": [
        "Задание 1"
      ],
      "metadata": {
        "id": "sTXYMAejNexe"
      }
    },
    {
      "cell_type": "code",
      "source": [
        "import pandas as pd\n",
        "import numpy as np\n",
        "import math\n",
        "import matplotlib.pyplot as plt\n",
        "import seaborn as sb\n",
        "from prettytable import PrettyTable\n",
        "\n",
        "np.set_printoptions(precision=3, suppress=True)\n",
        "\n",
        "def print_table(th, td):\n",
        "    table = PrettyTable(th)\n",
        "    columns = len(th) \n",
        "    td_data = td.tolist()[:]\n",
        "    while td_data:\n",
        "        table.add_row(td_data[:columns])\n",
        "        td_data = td_data[columns:]\n",
        "    print(table)"
      ],
      "metadata": {
        "id": "RfvKRAtONcZD"
      },
      "execution_count": 2,
      "outputs": []
    },
    {
      "cell_type": "code",
      "source": [
        "df = pd.read_csv('ДЗ5.csv')\n",
        "x = df.to_numpy()\n",
        "print(\"Выборка (вариант 10) \\n\", x)"
      ],
      "metadata": {
        "colab": {
          "base_uri": "https://localhost:8080/"
        },
        "id": "c256HCKSPLiy",
        "outputId": "fda430e3-b7cc-4a6b-89c6-8ba9c410df8e"
      },
      "execution_count": 5,
      "outputs": [
        {
          "output_type": "stream",
          "name": "stdout",
          "text": [
            "Выборка (вариант 10) \n",
            " [['-10.437;-3.874;-8.748;-8.036;-7.85;-11.149;-12.184;-7.747;-3.767;1.761']\n",
            " ['-11.87;0.823;-1.097;-8.208;-12.289;-8.661;-2.067;-7.831;-4.29;-7.062']\n",
            " ['-3.571;-12.35;-10.295;-8.066;-1.334;-2.598;-7.224;-5.336;-7.22;-7.747']\n",
            " ['-6.725;-4.637;-5.206;-8.816;-11.586;-14.533;-10.135;-9.516;-5.503;-9.966']\n",
            " ['-8.782;-10.151;-5.609;-5.025;-8.187;-7.44;-5.41;-9.567;-6.365;-9.776']\n",
            " ['-12.632;-6.32;-7.54;-1.798;-9.049;-10.221;-2.571;-10.856;-5.774;-7.42']\n",
            " ['-11.878;-2.76;-0.8;-7.944;-6.091;0.113;-3.328;-10.045;-7.386;-4.706']\n",
            " ['-10.041;-9.209;-4.214;-9.859;-4.108;-3.329;2.647;-8.015;-8.397;-7.12']\n",
            " ['-4.833;-5.303;-14.177;-4.619;-15.765;-8.972;-0.772;-17.609;-3.698;-1.299']\n",
            " ['-1.904;-6.024;-7.803;-5.757;-0.452;-7.508;-3.84;-7.814;-5.63;-5.21']\n",
            " ['-2.536;-7.717;-5.87;-4.508;-3.493;-10.479;-9.096;-1.598;-8.127;-6.348']]\n"
          ]
        }
      ]
    }
  ]
}